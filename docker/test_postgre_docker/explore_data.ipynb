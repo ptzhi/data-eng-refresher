{
 "cells": [
  {
   "cell_type": "code",
   "execution_count": 2,
   "id": "faaa9c34-f7ec-45f5-b73b-7671b1447ffc",
   "metadata": {},
   "outputs": [],
   "source": [
    "import requests"
   ]
  },
  {
   "cell_type": "code",
   "execution_count": 3,
   "id": "f85e91c2-f1a4-441a-9a95-145fe86c2c6a",
   "metadata": {},
   "outputs": [],
   "source": [
    "# def get_data(url):\n",
    "# \toutput_file = \"output.parquet\"\n",
    "\t\n",
    "# \tresponse = requests.get(url)\n",
    "# \tresponse.raise_for_status()  # Raise an exception if the request failed\n",
    "\t\n",
    "# \twith open(output_file, 'wb') as f:\n",
    "# \t\tf.write(response.content)\n",
    "\t\t\n",
    "# \treturn output_file"
   ]
  },
  {
   "cell_type": "code",
   "execution_count": 4,
   "id": "197592c6-6b71-4ccc-a86b-a8f33b64bc46",
   "metadata": {},
   "outputs": [
    {
     "data": {
      "text/plain": [
       "'output.parquet'"
      ]
     },
     "execution_count": 4,
     "metadata": {},
     "output_type": "execute_result"
    }
   ],
   "source": [
    "# get_data(\"https://d37ci6vzurychx.cloudfront.net/trip-data/yellow_tripdata_2021-01.parquet\")"
   ]
  },
  {
   "cell_type": "code",
   "execution_count": 3,
   "id": "277a8668-5c42-401d-8041-07dacb9f2909",
   "metadata": {},
   "outputs": [],
   "source": [
    "url = \"https://d37ci6vzurychx.cloudfront.net/trip-data/yellow_tripdata_2021-01.parquet\"\n",
    "output_file = \"trips.parquet\"\n",
    "\n",
    "response = requests.get(url)\n",
    "response.raise_for_status()  # Raise an exception if the request failed\n",
    "\n",
    "with open(output_file, 'wb') as f:\n",
    "    f.write(response.content)\n",
    "    "
   ]
  },
  {
   "cell_type": "code",
   "execution_count": 5,
   "id": "c2327699-6f5b-4065-a7bc-f48c6d80e3aa",
   "metadata": {},
   "outputs": [],
   "source": [
    "import pyarrow.parquet as pq"
   ]
  },
  {
   "cell_type": "code",
   "execution_count": 8,
   "id": "f688bc70-950b-4bce-8974-168c257db37f",
   "metadata": {},
   "outputs": [],
   "source": [
    "trips_pq = pq.read_table(\"output.parquet\")"
   ]
  },
  {
   "cell_type": "code",
   "execution_count": 10,
   "id": "85a62843-2b78-421d-9275-b43b3dd287e7",
   "metadata": {},
   "outputs": [
    {
     "data": {
      "text/plain": [
       "pyarrow.Table\n",
       "VendorID: int64\n",
       "tpep_pickup_datetime: timestamp[us]\n",
       "tpep_dropoff_datetime: timestamp[us]\n",
       "passenger_count: double\n",
       "trip_distance: double\n",
       "RatecodeID: double\n",
       "store_and_fwd_flag: string\n",
       "PULocationID: int64\n",
       "DOLocationID: int64\n",
       "payment_type: int64\n",
       "fare_amount: double\n",
       "extra: double\n",
       "mta_tax: double\n",
       "tip_amount: double\n",
       "tolls_amount: double\n",
       "improvement_surcharge: double\n",
       "total_amount: double\n",
       "congestion_surcharge: double\n",
       "airport_fee: double\n",
       "----\n",
       "VendorID: [[1,1,1,1,2,...,2,2,2,2,2],[2,2,1,2,2,...,2,1,1,2,1],...,[1,1,2,2,2,...,6,1,2,2,2],[2,1,1,2,2,...,2,2,2,6,2]]\n",
       "tpep_pickup_datetime: [[2021-01-01 00:30:10.000000,2021-01-01 00:51:20.000000,2021-01-01 00:43:30.000000,2021-01-01 00:15:48.000000,2021-01-01 00:31:49.000000,...,2021-01-05 10:44:30.000000,2021-01-05 10:27:59.000000,2021-01-05 10:37:28.000000,2021-01-05 10:52:16.000000,2021-01-05 10:10:25.000000],[2021-01-05 10:26:29.000000,2021-01-05 10:27:42.000000,2021-01-05 10:24:42.000000,2021-01-05 10:24:28.000000,2021-01-05 10:29:01.000000,...,2021-01-08 09:04:02.000000,2021-01-08 09:26:23.000000,2021-01-08 09:44:27.000000,2021-01-08 09:07:13.000000,2021-01-08 09:28:54.000000],...,[2021-01-29 14:18:35.000000,2021-01-29 14:36:23.000000,2021-01-29 14:02:13.000000,2021-01-29 14:02:13.000000,2021-01-29 14:28:31.000000,...,2021-01-13 14:01:05.000000,2021-01-13 14:17:40.000000,2021-01-13 14:48:00.000000,2021-01-13 14:55:50.000000,2021-01-13 14:46:00.000000],[2021-01-13 14:10:00.000000,2021-01-13 14:27:35.000000,2021-01-13 14:08:47.000000,2021-01-13 14:20:00.000000,2021-01-13 14:10:00.000000,...,2021-01-31 23:03:00.000000,2021-01-31 23:29:00.000000,2021-01-31 23:25:00.000000,2021-01-31 23:01:06.000000,2021-01-31 23:08:29.000000]]\n",
       "tpep_dropoff_datetime: [[2021-01-01 00:36:12.000000,2021-01-01 00:52:19.000000,2021-01-01 01:11:06.000000,2021-01-01 00:31:01.000000,2021-01-01 00:48:21.000000,...,2021-01-05 11:09:27.000000,2021-01-05 10:32:48.000000,2021-01-05 10:47:18.000000,2021-01-05 11:05:06.000000,2021-01-05 10:13:48.000000],[2021-01-05 10:39:27.000000,2021-01-05 10:37:42.000000,2021-01-05 10:33:44.000000,2021-01-05 10:27:40.000000,2021-01-06 10:27:40.000000,...,2021-01-08 09:10:55.000000,2021-01-08 09:30:24.000000,2021-01-08 09:55:15.000000,2021-01-08 09:21:41.000000,2021-01-08 09:39:24.000000],...,[2021-01-29 14:31:34.000000,2021-01-29 15:08:23.000000,2021-01-29 14:13:31.000000,2021-01-29 14:13:31.000000,2021-01-29 14:41:57.000000,...,2021-01-13 14:01:02.000000,2021-01-13 14:24:16.000000,2021-01-13 14:55:00.000000,2021-01-13 15:24:40.000000,2021-01-13 15:01:00.000000],[2021-01-13 14:23:00.000000,2021-01-13 14:38:54.000000,2021-01-13 14:14:21.000000,2021-01-13 14:58:00.000000,2021-01-13 14:26:00.000000,...,2021-01-31 23:33:00.000000,2021-01-31 23:51:00.000000,2021-01-31 23:38:00.000000,2021-02-01 00:02:03.000000,2021-01-31 23:31:22.000000]]\n",
       "passenger_count: [[1,1,1,0,1,...,1,1,1,1,1],[1,2,1,1,1,...,1,1,1,1,1],...,[1,1,2,2,2,...,null,null,null,null,null],[null,null,null,null,null,...,null,null,null,null,null]]\n",
       "trip_distance: [[2.1,0.2,14.7,10.6,4.94,...,9.68,1.21,1.78,1.88,0.35],[3.54,1.66,1.4,0.38,0.26,...,1.08,0.8,2.1,2.66,2.7],...,[2.3,6.6,2.18,2.18,1.93,...,14.97,2.2,1.22,6.88,2.56],[4.76,1.6,0.8,5.85,5.67,...,8.89,7.43,6.26,19.7,4.68]]\n",
       "RatecodeID: [[1,1,1,1,1,...,1,1,1,1,1],[1,1,1,1,1,...,1,1,1,1,1],...,[1,1,1,1,1,...,null,null,null,null,null],[null,null,null,null,null,...,null,null,null,null,null]]\n",
       "store_and_fwd_flag: [[\"N\",\"N\",\"N\",\"N\",\"N\",...,\"N\",\"N\",\"N\",\"N\",\"N\"],[\"N\",\"N\",\"N\",\"N\",\"N\",...,\"N\",\"N\",\"N\",\"N\",\"N\"],...,[\"N\",\"N\",\"N\",\"N\",\"N\",...,null,null,null,null,null],[null,null,null,null,null,...,null,null,null,null,null]]\n",
       "PULocationID: [[142,238,132,138,68,...,43,186,249,161,140],[236,113,238,141,140,...,262,48,142,238,79],...,[75,239,140,140,75,...,265,90,211,42,238],[208,141,237,242,249,...,229,41,74,265,89]]\n",
       "DOLocationID: [[43,151,165,132,33,...,127,48,164,236,140],[48,137,236,140,140,...,237,50,162,140,140],...,[239,69,75,75,24,...,55,231,13,137,230],[252,236,162,69,238,...,181,70,137,188,61]]\n",
       "payment_type: [[2,2,1,1,1,...,1,1,1,1,1],[1,1,2,1,1,...,1,1,1,2,1],...,[1,2,4,2,1,...,0,0,0,0,0],[0,0,0,0,0,...,0,0,0,0,0]]\n",
       "..."
      ]
     },
     "execution_count": 10,
     "metadata": {},
     "output_type": "execute_result"
    }
   ],
   "source": [
    "trips_pq"
   ]
  }
 ],
 "metadata": {
  "kernelspec": {
   "display_name": "Python 3 (ipykernel)",
   "language": "python",
   "name": "python3"
  },
  "language_info": {
   "codemirror_mode": {
    "name": "ipython",
    "version": 3
   },
   "file_extension": ".py",
   "mimetype": "text/x-python",
   "name": "python",
   "nbconvert_exporter": "python",
   "pygments_lexer": "ipython3",
   "version": "3.11.0"
  }
 },
 "nbformat": 4,
 "nbformat_minor": 5
}
